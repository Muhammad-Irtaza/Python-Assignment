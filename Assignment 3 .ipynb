{
 "cells": [
  {
   "cell_type": "code",
   "execution_count": 4,
   "metadata": {},
   "outputs": [
    {
     "name": "stdout",
     "output_type": "stream",
     "text": [
      "Twinkle, twinkle, little star,\n",
      "    How I wonder what you are! \n",
      "        Up above the world so high, \n",
      "        Like a diamond in the sky. \n",
      "Twinkle, twinkle, little star, \n",
      "    How I wonder what you are\n"
     ]
    }
   ],
   "source": [
    "# Question no 1: Write a Python program to print the following string in a specific format (see the output). \n",
    "print(\"Twinkle, twinkle, little star,\\n    How I wonder what you are! \\n        Up above the world so high, \\n        Like a diamond in the sky. \\nTwinkle, twinkle, little star, \\n    How I wonder what you are\") \n",
    "  "
   ]
  },
  {
   "cell_type": "code",
   "execution_count": 7,
   "metadata": {},
   "outputs": [
    {
     "name": "stdout",
     "output_type": "stream",
     "text": [
      "3.7.6\n"
     ]
    }
   ],
   "source": [
    "# Question no 2:Write a Python program to get the Python version you are using \n",
    "from platform import python_version\n",
    "print(python_version())"
   ]
  },
  {
   "cell_type": "code",
   "execution_count": 11,
   "metadata": {},
   "outputs": [
    {
     "name": "stdout",
     "output_type": "stream",
     "text": [
      "date and time = 24/10/2021 11:42:40\n"
     ]
    }
   ],
   "source": [
    "#Question no 3: Write a Python program to display the current date and time. \n",
    "from datetime import datetime\n",
    "now = datetime.now()\n",
    "dt_string = now.strftime(\"%d/%m/%Y %H:%M:%S\")\n",
    "print(\"date and time =\", dt_string)"
   ]
  },
  {
   "cell_type": "code",
   "execution_count": 12,
   "metadata": {},
   "outputs": [
    {
     "name": "stdout",
     "output_type": "stream",
     "text": [
      "Input the radius of the circle : 1.9\n",
      "The area of the circle with radius 1.9 is: 11.341149479459153\n"
     ]
    }
   ],
   "source": [
    "#Question no 4: Write a Python program which accepts the radius of a circle from the user and compute the area.\n",
    "from math import pi\n",
    "r = float(input (\"Input the radius of the circle : \"))\n",
    "print (\"The area of the circle with radius \" + str(r) + \" is: \" + str(pi * r**2))"
   ]
  },
  {
   "cell_type": "code",
   "execution_count": 13,
   "metadata": {},
   "outputs": [
    {
     "name": "stdout",
     "output_type": "stream",
     "text": [
      "Input your First Name : Muhammad\n",
      "Input your Last Name : Irtaza\n",
      "Hello  Irtaza Muhammad\n"
     ]
    }
   ],
   "source": [
    "#Question no 5: Write a Python program which accepts the user's first and last name and print them in reverse order with a space between them.\n",
    "fname = input(\"Input your First Name : \")\n",
    "lname = input(\"Input your Last Name : \")\n",
    "print (\"Hello  \" + lname + \" \" + fname)\n"
   ]
  },
  {
   "cell_type": "code",
   "execution_count": 19,
   "metadata": {},
   "outputs": [
    {
     "name": "stdout",
     "output_type": "stream",
     "text": [
      "Input your first number : 102\n",
      "Input your second number :11\n",
      "ADDITION =  113\n"
     ]
    }
   ],
   "source": [
    "#Question no 6:  Write a python program which takes two inputs from user and print them addition\n",
    "firstnum= input(\"Input your first number : \")\n",
    "secondnum= input(\"Input your second number :\")\n",
    "add = int(firstnum) + int(secondnum)\n",
    "print (\"ADDITION = \", add)"
   ]
  },
  {
   "cell_type": "code",
   "execution_count": 41,
   "metadata": {},
   "outputs": [
    {
     "name": "stdout",
     "output_type": "stream",
     "text": [
      "Enter your Science marks: 85\n",
      "Enter your Mathematics marks: 82\n",
      "Enter your PakStudies marks: 80\n",
      "Enter your English marks: 81\n",
      "Enter your Urdu marks: 89\n",
      "Grade: A+ 83.39999999999999\n"
     ]
    }
   ],
   "source": [
    "#Question no 7:Write a program which takes 5 inputs from user for different subject’s marks, total it and generate mark sheet using grades ?\n",
    "science_marks =int (input(\"Enter your Science marks: \"))\n",
    "Mathametics_marks =int (input(\"Enter your Mathematics marks: \"))\n",
    "PakStudies_marks =int (input(\"Enter your PakStudies marks: \"))\n",
    "English_marks =int (input(\"Enter your English marks: \"))\n",
    "Urdu_marks =int(input(\"Enter your Urdu marks: \"))\n",
    "total_mark= ((science_marks + Mathametics_marks + PakStudies_marks + English_marks + Urdu_marks)/500)*100 \n",
    "if (total_mark >= 80 and total_mark <=100 ):\n",
    "    print(\"Grade: A+\", total_mark);\n",
    "elif (total_mark >=70 and total_mark <=80 ):\n",
    "    print (\"Grade: A\" ,total_mark);\n",
    "elif (total_mark >=60 and total_mark <=70):\n",
    "    print (\"Grade: B\" ,total_mark);\n",
    "elif (total_mark >=50 and total_mark <=60):\n",
    "    print (\"Grade: C\" ,total_mark);\n",
    "elif (total_mark >=40 and total_mark <=50):\n",
    "    print (\"Grade: D\" ,total_mark);\n",
    "elif (total_mark>=30 and total_mark <=50):\n",
    "    print (\"Grade: E\" ,total_mark);\n",
    "elif (total_mark >=0 and total_mark <=30):\n",
    "    print (\"FAIL\");\n",
    "else: \n",
    "    print(\"Invalid percentage\");"
   ]
  },
  {
   "cell_type": "code",
   "execution_count": 42,
   "metadata": {},
   "outputs": [
    {
     "name": "stdout",
     "output_type": "stream",
     "text": [
      "Enter a number: 56\n",
      "This is an even number.\n"
     ]
    }
   ],
   "source": [
    "#Question no 8: Write a program which take input from user and identify that the given number is even or odd.\n",
    "num = int(input(\"Enter a number: \"))\n",
    "mod = num % 2\n",
    "if mod > 0:\n",
    "    print(\"This is an odd number.\")\n",
    "else:\n",
    "    print(\"This is an even number.\")\n"
   ]
  },
  {
   "cell_type": "code",
   "execution_count": 43,
   "metadata": {},
   "outputs": [
    {
     "name": "stdout",
     "output_type": "stream",
     "text": [
      "Number of items in the list =  5\n"
     ]
    }
   ],
   "source": [
    "#Question no 9:Write a program which print the length of the list?\n",
    "ListName = [\"Hello\", \"Irtaza\", 1, 2, 3]\n",
    "print (\"Number of items in the list = \", len(ListName))"
   ]
  },
  {
   "cell_type": "code",
   "execution_count": 46,
   "metadata": {},
   "outputs": [
    {
     "name": "stdout",
     "output_type": "stream",
     "text": [
      "Sum of all elements in given list:  74\n"
     ]
    }
   ],
   "source": [
    "#Question no 10: Write a Python program to sum all the numeric items in a list? \n",
    "total = 0\n",
    "list1 = [11, 5, 17, 18, 23]\n",
    "for ele in range(0, len(list1)):\n",
    "    total = total + list1[ele]\n",
    "print(\"Sum of all elements in given list: \", total)"
   ]
  },
  {
   "cell_type": "code",
   "execution_count": 47,
   "metadata": {},
   "outputs": [
    {
     "name": "stdout",
     "output_type": "stream",
     "text": [
      "Largest element is: 102\n"
     ]
    }
   ],
   "source": [
    "#Question no 11: Write a Python program to get the largest number from a numeric list. \n",
    "list1 = [101, 20, 45, 102, 99]\n",
    "print(\"Largest element is:\", max(list1))"
   ]
  },
  {
   "cell_type": "code",
   "execution_count": 48,
   "metadata": {},
   "outputs": [
    {
     "name": "stdout",
     "output_type": "stream",
     "text": [
      "1\n",
      "1\n",
      "2\n",
      "3\n"
     ]
    }
   ],
   "source": [
    "#Question no 12: Take a list, say for example this one and Write a program that prints out all the elements of the list that are less than 5.\n",
    "a = [1, 1, 2, 3, 5, 8, 13, 21, 34, 55, 89] \n",
    "for i in a:\n",
    "    if i < 5:\n",
    "        print(i)"
   ]
  }
 ],
 "metadata": {
  "kernelspec": {
   "display_name": "Python 3",
   "language": "python",
   "name": "python3"
  },
  "language_info": {
   "codemirror_mode": {
    "name": "ipython",
    "version": 3
   },
   "file_extension": ".py",
   "mimetype": "text/x-python",
   "name": "python",
   "nbconvert_exporter": "python",
   "pygments_lexer": "ipython3",
   "version": "3.7.6"
  }
 },
 "nbformat": 4,
 "nbformat_minor": 4
}

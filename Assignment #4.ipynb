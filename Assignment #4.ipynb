{
 "cells": [
  {
   "cell_type": "code",
   "execution_count": null,
   "metadata": {},
   "outputs": [
    {
     "name": "stdout",
     "output_type": "stream",
     "text": [
      "Welcome to my calculator made in python :D\n",
      "Please choose your operator adding(1) subtracting(2) multiplying(3) didviding(4) for power(5)\n",
      "Enter your first digit: 102\n",
      "Enter your second digit: 22\n",
      "Enter your operator: 3\n",
      "102 * 22 = \n",
      "2244\n",
      "You were mulitplaying.\n"
     ]
    }
   ],
   "source": [
    "#Q1: Make a calculator using python with addition,substraction, multiplication, division and power.\n",
    "# define the function\n",
    "def calculate():\n",
    "    print('Please choose your operator adding(1) subtracting(2) multiplying(3) didviding(4) for power(5)')\n",
    "\n",
    "    number_1 = int(input(\"Enter your first digit: \"))\n",
    "    \n",
    "    number_2 = int(input(\"Enter your second digit: \"))\n",
    "    operation = input(\"Enter your operator: \")\n",
    "\n",
    "\n",
    "# adding\n",
    "    if operation == '1':\n",
    "        print('{} + {} = '.format(number_1, number_2))\n",
    "        print(number_1 + number_2)\n",
    "        print(\"You were adding.\\n\")\n",
    "      \n",
    "\n",
    "# subtracting\n",
    "    elif operation == '2':\n",
    "        print('{} - {} = '.format(number_1, number_2))\n",
    "        print(number_1 - number_2)\n",
    "        print(\"You were subtracting.\\n\")\n",
    "       \n",
    "\n",
    "# mulitplaying\n",
    "    elif operation == '3':\n",
    "        print('{} * {} = '.format(number_1, number_2))\n",
    "        print(number_1 * number_2)\n",
    "        print(\"You were mulitplaying.\")\n",
    "       \n",
    "\n",
    "# dividing\n",
    "    elif operation == '4':\n",
    "        print('{} / {} = '.format(number_1, number_2))\n",
    "        print(number_1 / number_2)\n",
    "        print(\"You were dividing.\\n\")\n",
    "       \n",
    "\n",
    "# for power\n",
    "    elif operation == '5':\n",
    "        print('{} ** {} = '.format(number_1, number_2))\n",
    "        print(number_1 ** number_2)\n",
    "        print(\"You were using for power.\\n\")\n",
    "     \n",
    "\n",
    "\n",
    "\n",
    "    # if they get a error\n",
    "    else:\n",
    "        print(\"Your number you have typed is invalid, please restart your program!\")\n",
    "    # add again() here as a function outside the calculate()\n",
    "    again()\n",
    "\n",
    "\n",
    "def again():\n",
    "    cal_again = input(\"Do you want to calculate again? Y = yes or N = no: \")\n",
    "\n",
    "    # Taking user input\n",
    "    if cal_again.upper() == 'Y':\n",
    "        calculate()\n",
    "    elif cal_again.upper() == 'N':\n",
    "        print('Leaving')\n",
    "    else:\n",
    "        again()\n",
    "\n",
    "\n",
    "def welcome():\n",
    "    print(\"Welcome to my calculator made in python :D\")\n",
    "\n",
    "\n",
    "# use calculate() for the function\n",
    "welcome()\n",
    "calculate()"
   ]
  },
  {
   "cell_type": "code",
   "execution_count": 7,
   "metadata": {
    "scrolled": true
   },
   "outputs": [
    {
     "data": {
      "text/plain": [
       "['1', '2', '3', '4', '1.5', '2.6']"
      ]
     },
     "execution_count": 7,
     "metadata": {},
     "output_type": "execute_result"
    }
   ],
   "source": [
    "#Q2: Write a program to check if there is any numeric value in list using for loop.\n",
    "def solve(lis):\n",
    "    for x in lis:\n",
    "        try:\n",
    "            float(x)\n",
    "            return True\n",
    "        except:\n",
    "            return False\n",
    "         \n",
    "    mylist = ['1','orange','2','3','4','apple', '1.5', '2.6']\n",
    "    [x for x in mylist if solve(x)]\n",
    "['1', '2', '3', '4', '1.5', '2.6']"
   ]
  },
  {
   "cell_type": "code",
   "execution_count": 8,
   "metadata": {},
   "outputs": [
    {
     "name": "stdout",
     "output_type": "stream",
     "text": [
      "{1: 'Muhammad'}\n",
      "{1: 'Muhammad', 2: 'Irtaza'}\n"
     ]
    }
   ],
   "source": [
    "# Q:3 Write a Python script to add a key to a dictionary.\n",
    "a = {1: \"Muhammad\"}\n",
    "print (a)\n",
    "a.update({2: \"Irtaza\"})\n",
    "print(a)\n"
   ]
  },
  {
   "cell_type": "code",
   "execution_count": 9,
   "metadata": {},
   "outputs": [
    {
     "name": "stdout",
     "output_type": "stream",
     "text": [
      "166\n"
     ]
    }
   ],
   "source": [
    "# Q:4 Write a Python program to sum all the numeric items in a dictionary.\n",
    "a = {1: 102, 2: 24, 3: 40}\n",
    "print(sum(a.values()))"
   ]
  },
  {
   "cell_type": "code",
   "execution_count": 10,
   "metadata": {},
   "outputs": [
    {
     "name": "stdout",
     "output_type": "stream",
     "text": [
      "Irtaza 102 "
     ]
    }
   ],
   "source": [
    "# Q:5 Write a program to identify duplicate values from list.\n",
    "\n",
    "s = ['Irtaza', 'Irtaza', 102, 'Syed', 102, 89]\n",
    "s1 = []\n",
    "\n",
    "for i in s:\n",
    "    if i not in s1:\n",
    "        s1.append(i)\n",
    "    else:\n",
    "        print(i,end=' ')"
   ]
  },
  {
   "cell_type": "code",
   "execution_count": 12,
   "metadata": {},
   "outputs": [
    {
     "name": "stdout",
     "output_type": "stream",
     "text": [
      "Key is present in the dictionary\n",
      "Key is not present in the dictionary\n"
     ]
    }
   ],
   "source": [
    "# Q:6 Write a Python script to check if a given key already exists in a dictionary.\n",
    "\n",
    "d = {1: 102, 2: 14, 3: 30, 4: 46, 5: 120, 6: 60}\n",
    "def is_key_present(x):\n",
    "  if x in d:\n",
    "      print('Key is present in the dictionary')\n",
    "  else:\n",
    "      print('Key is not present in the dictionary')\n",
    "is_key_present(2)\n",
    "is_key_present(9)\n"
   ]
  },
  {
   "cell_type": "code",
   "execution_count": null,
   "metadata": {},
   "outputs": [],
   "source": []
  }
 ],
 "metadata": {
  "kernelspec": {
   "display_name": "Python 3",
   "language": "python",
   "name": "python3"
  },
  "language_info": {
   "codemirror_mode": {
    "name": "ipython",
    "version": 3
   },
   "file_extension": ".py",
   "mimetype": "text/x-python",
   "name": "python",
   "nbconvert_exporter": "python",
   "pygments_lexer": "ipython3",
   "version": "3.7.6"
  }
 },
 "nbformat": 4,
 "nbformat_minor": 4
}
